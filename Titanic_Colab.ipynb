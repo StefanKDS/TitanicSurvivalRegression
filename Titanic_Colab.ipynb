{
  "nbformat": 4,
  "nbformat_minor": 0,
  "metadata": {
    "colab": {
      "name": "Untitled3.ipynb",
      "provenance": [],
      "authorship_tag": "ABX9TyNucnxFPnxNYsQo4pAh9MH2",
      "include_colab_link": true
    },
    "kernelspec": {
      "name": "python3",
      "display_name": "Python 3"
    },
    "language_info": {
      "name": "python"
    }
  },
  "cells": [
    {
      "cell_type": "markdown",
      "metadata": {
        "id": "view-in-github",
        "colab_type": "text"
      },
      "source": [
        "<a href=\"https://colab.research.google.com/github/StefanKDS/TitanicSurvivalRegression/blob/master/Titanic_Colab.ipynb\" target=\"_parent\"><img src=\"https://colab.research.google.com/assets/colab-badge.svg\" alt=\"Open In Colab\"/></a>"
      ]
    },
    {
      "cell_type": "markdown",
      "source": [
        "# IMPORT"
      ],
      "metadata": {
        "id": "Peu8j5EHxBtY"
      }
    },
    {
      "cell_type": "code",
      "source": [
        "import tensorflow as tf\n",
        "import pandas as pd\n",
        "import numpy as np\n",
        "from sklearn.compose import make_column_transformer\n",
        "from sklearn.preprocessing import MinMaxScaler, OneHotEncoder\n",
        "from sklearn.model_selection import train_test_split\n",
        "from keras.callbacks import ReduceLROnPlateau, EarlyStopping"
      ],
      "metadata": {
        "id": "-gd9I74psajd"
      },
      "execution_count": 20,
      "outputs": []
    },
    {
      "cell_type": "code",
      "source": [
        "# Install kaggle and import data\n",
        "!pip install kaggle\n",
        "!kaggle competitions download -c titanic"
      ],
      "metadata": {
        "colab": {
          "base_uri": "https://localhost:8080/"
        },
        "id": "MtQzl9PGs35w",
        "outputId": "7ef39948-450c-4947-bc43-7a02a45d0290"
      },
      "execution_count": 21,
      "outputs": [
        {
          "output_type": "stream",
          "name": "stdout",
          "text": [
            "Requirement already satisfied: kaggle in /usr/local/lib/python3.7/dist-packages (1.5.12)\n",
            "Requirement already satisfied: urllib3 in /usr/local/lib/python3.7/dist-packages (from kaggle) (1.24.3)\n",
            "Requirement already satisfied: tqdm in /usr/local/lib/python3.7/dist-packages (from kaggle) (4.62.3)\n",
            "Requirement already satisfied: certifi in /usr/local/lib/python3.7/dist-packages (from kaggle) (2021.10.8)\n",
            "Requirement already satisfied: python-dateutil in /usr/local/lib/python3.7/dist-packages (from kaggle) (2.8.2)\n",
            "Requirement already satisfied: python-slugify in /usr/local/lib/python3.7/dist-packages (from kaggle) (5.0.2)\n",
            "Requirement already satisfied: requests in /usr/local/lib/python3.7/dist-packages (from kaggle) (2.23.0)\n",
            "Requirement already satisfied: six>=1.10 in /usr/local/lib/python3.7/dist-packages (from kaggle) (1.15.0)\n",
            "Requirement already satisfied: text-unidecode>=1.3 in /usr/local/lib/python3.7/dist-packages (from python-slugify->kaggle) (1.3)\n",
            "Requirement already satisfied: chardet<4,>=3.0.2 in /usr/local/lib/python3.7/dist-packages (from requests->kaggle) (3.0.4)\n",
            "Requirement already satisfied: idna<3,>=2.5 in /usr/local/lib/python3.7/dist-packages (from requests->kaggle) (2.10)\n",
            "Warning: Looks like you're using an outdated API Version, please consider updating (server 1.5.12 / client 1.5.4)\n",
            "train.csv: Skipping, found more recently modified local copy (use --force to force download)\n",
            "gender_submission.csv: Skipping, found more recently modified local copy (use --force to force download)\n",
            "test.csv: Skipping, found more recently modified local copy (use --force to force download)\n"
          ]
        }
      ]
    },
    {
      "cell_type": "code",
      "source": [
        "# Read in the insurance dataset\n",
        "train_data = pd.read_csv(\"train.csv\")\n",
        "train_data.head"
      ],
      "metadata": {
        "colab": {
          "base_uri": "https://localhost:8080/"
        },
        "id": "mZZ3L1HAuWLk",
        "outputId": "0038377d-25c6-4d77-ab7e-bd224a40a26c"
      },
      "execution_count": 22,
      "outputs": [
        {
          "output_type": "execute_result",
          "data": {
            "text/plain": [
              "<bound method NDFrame.head of      PassengerId  Survived  Pclass  ...     Fare Cabin  Embarked\n",
              "0              1         0       3  ...   7.2500   NaN         S\n",
              "1              2         1       1  ...  71.2833   C85         C\n",
              "2              3         1       3  ...   7.9250   NaN         S\n",
              "3              4         1       1  ...  53.1000  C123         S\n",
              "4              5         0       3  ...   8.0500   NaN         S\n",
              "..           ...       ...     ...  ...      ...   ...       ...\n",
              "886          887         0       2  ...  13.0000   NaN         S\n",
              "887          888         1       1  ...  30.0000   B42         S\n",
              "888          889         0       3  ...  23.4500   NaN         S\n",
              "889          890         1       1  ...  30.0000  C148         C\n",
              "890          891         0       3  ...   7.7500   NaN         Q\n",
              "\n",
              "[891 rows x 12 columns]>"
            ]
          },
          "metadata": {},
          "execution_count": 22
        }
      ]
    },
    {
      "cell_type": "code",
      "source": [
        "# Do we have missing data ?\n",
        "train_data.isnull().sum()"
      ],
      "metadata": {
        "colab": {
          "base_uri": "https://localhost:8080/"
        },
        "id": "0JfV_rkkui0c",
        "outputId": "318ccc0e-f187-4877-adfa-70ddfdcbc957"
      },
      "execution_count": 23,
      "outputs": [
        {
          "output_type": "execute_result",
          "data": {
            "text/plain": [
              "PassengerId      0\n",
              "Survived         0\n",
              "Pclass           0\n",
              "Name             0\n",
              "Sex              0\n",
              "Age            177\n",
              "SibSp            0\n",
              "Parch            0\n",
              "Ticket           0\n",
              "Fare             0\n",
              "Cabin          687\n",
              "Embarked         2\n",
              "dtype: int64"
            ]
          },
          "metadata": {},
          "execution_count": 23
        }
      ]
    },
    {
      "cell_type": "code",
      "source": [
        "# Fill missing values\n",
        "train_data[\"Age\"] = train_data[\"Age\"].replace(np.NaN, train_data[\"Age\"].mean())\n",
        "train_data[\"Cabin\"] = train_data[\"Cabin\"].fillna('U')\n",
        "train_data[\"Embarked\"] = train_data[\"Embarked\"].fillna('U')"
      ],
      "metadata": {
        "id": "uXAGSr54vYFL"
      },
      "execution_count": 24,
      "outputs": []
    },
    {
      "cell_type": "code",
      "source": [
        "# Do we have still missing data ?\n",
        "train_data.isnull().sum()"
      ],
      "metadata": {
        "colab": {
          "base_uri": "https://localhost:8080/"
        },
        "id": "JYmquYaUvdWc",
        "outputId": "ca60ddd3-fe5c-4c6d-8760-624a70dc5dcf"
      },
      "execution_count": 25,
      "outputs": [
        {
          "output_type": "execute_result",
          "data": {
            "text/plain": [
              "PassengerId    0\n",
              "Survived       0\n",
              "Pclass         0\n",
              "Name           0\n",
              "Sex            0\n",
              "Age            0\n",
              "SibSp          0\n",
              "Parch          0\n",
              "Ticket         0\n",
              "Fare           0\n",
              "Cabin          0\n",
              "Embarked       0\n",
              "dtype: int64"
            ]
          },
          "metadata": {},
          "execution_count": 25
        }
      ]
    },
    {
      "cell_type": "code",
      "source": [
        "# Prepare data\n",
        "ct = make_column_transformer(\n",
        "    (MinMaxScaler(), [\"Pclass\", \"Age\", \"SibSp\", \"Parch\", \"Fare\"]), # get all values between 0 and 1\n",
        "    (OneHotEncoder(handle_unknown=\"ignore\"), [\"Sex\", \"Ticket\", \"Embarked\"]))\n",
        "\n",
        "# Drop not needed columns\n",
        "train_data = train_data.drop([\"Name\", \"PassengerId\"], axis=1)\n",
        "\n",
        "# Create X & y values\n",
        "X = train_data.drop(\"Survived\", axis=1)\n",
        "y = train_data[\"Survived\"]\n",
        "\n",
        "# Build our train and test sets (use random state to ensure same split as before)\n",
        "X_train, X_test, y_train, y_test = train_test_split(X, y, test_size=0.2, random_state=42)\n",
        "\n",
        "# Fit column transformer on the training data only (doing so on test data would result in data leakage)\n",
        "ct.fit(X_train)\n",
        "\n",
        "# Transform training and test data with normalization (MinMaxScalar) and one hot encoding (OneHotEncoder)\n",
        "X_train_normal = ct.transform(X_train)\n",
        "X_test_normal = ct.transform(X_test)"
      ],
      "metadata": {
        "id": "LT93E_Rgvhbk"
      },
      "execution_count": 26,
      "outputs": []
    },
    {
      "cell_type": "code",
      "source": [
        "# Callbacks\n",
        "reduce_lr = ReduceLROnPlateau(monitor='val_accuracy', min_lr=0.001, patience=5, mode='min', verbose=1)\n",
        "early_stopping = EarlyStopping(patience=10, monitor='val_accuracy')\n",
        "callbacks = [early_stopping,reduce_lr]\n",
        "\n",
        "# Set random seed\n",
        "tf.random.set_seed(42)\n",
        "\n",
        "# Build the model (3 layers, 100, 10, 1 units)\n",
        "model_1 = tf.keras.Sequential([\n",
        "  tf.keras.layers.Dense(100, activation=\"relu\"),\n",
        "  tf.keras.layers.Dense(10, activation=\"relu\"),\n",
        "  tf.keras.layers.Dense(1, activation=\"sigmoid\")\n",
        "])\n",
        "\n",
        "# Compile the model\n",
        "model_1.compile(loss = 'binary_crossentropy',\n",
        "                          optimizer=tf.keras.optimizers.Adam(),\n",
        "                          metrics=['accuracy'])"
      ],
      "metadata": {
        "id": "mZP7QUPav3fe"
      },
      "execution_count": 27,
      "outputs": []
    },
    {
      "cell_type": "code",
      "source": [
        "X_train_normal = X_train_normal.toarray()\n",
        "X_test_normal = X_test_normal.toarray()\n",
        "\n",
        "history = model_1.fit(X_train_normal, y_train, epochs=100, callbacks=callbacks, validation_data=(X_test_normal, y_test))"
      ],
      "metadata": {
        "colab": {
          "base_uri": "https://localhost:8080/"
        },
        "id": "WtwLbMJLv8Dn",
        "outputId": "faca4a5a-1ef0-4ef5-e8c3-6695b3c8b0ec"
      },
      "execution_count": 28,
      "outputs": [
        {
          "output_type": "stream",
          "name": "stdout",
          "text": [
            "Epoch 1/100\n",
            "23/23 [==============================] - 1s 11ms/step - loss: 0.6450 - accuracy: 0.6264 - val_loss: 0.6062 - val_accuracy: 0.5922 - lr: 0.0010\n",
            "Epoch 2/100\n",
            "23/23 [==============================] - 0s 3ms/step - loss: 0.5549 - accuracy: 0.6728 - val_loss: 0.5501 - val_accuracy: 0.7486 - lr: 0.0010\n",
            "Epoch 3/100\n",
            "23/23 [==============================] - 0s 4ms/step - loss: 0.5063 - accuracy: 0.8188 - val_loss: 0.5172 - val_accuracy: 0.8212 - lr: 0.0010\n",
            "Epoch 4/100\n",
            "23/23 [==============================] - 0s 4ms/step - loss: 0.4593 - accuracy: 0.8539 - val_loss: 0.4883 - val_accuracy: 0.8156 - lr: 0.0010\n",
            "Epoch 5/100\n",
            "23/23 [==============================] - 0s 4ms/step - loss: 0.4119 - accuracy: 0.8539 - val_loss: 0.4593 - val_accuracy: 0.8156 - lr: 0.0010\n",
            "Epoch 6/100\n",
            "23/23 [==============================] - 0s 4ms/step - loss: 0.3620 - accuracy: 0.8638 - val_loss: 0.4342 - val_accuracy: 0.8156 - lr: 0.0010\n",
            "Epoch 7/100\n",
            "23/23 [==============================] - 0s 3ms/step - loss: 0.3067 - accuracy: 0.8820 - val_loss: 0.4102 - val_accuracy: 0.8101 - lr: 0.0010\n",
            "Epoch 8/100\n",
            "23/23 [==============================] - 0s 4ms/step - loss: 0.2544 - accuracy: 0.9129 - val_loss: 0.3892 - val_accuracy: 0.8268 - lr: 0.0010\n",
            "Epoch 9/100\n",
            "23/23 [==============================] - 0s 3ms/step - loss: 0.2018 - accuracy: 0.9410 - val_loss: 0.3779 - val_accuracy: 0.8324 - lr: 0.0010\n",
            "Epoch 10/100\n",
            "23/23 [==============================] - 0s 3ms/step - loss: 0.1563 - accuracy: 0.9607 - val_loss: 0.3673 - val_accuracy: 0.8380 - lr: 0.0010\n",
            "Epoch 11/100\n",
            "23/23 [==============================] - 0s 3ms/step - loss: 0.1213 - accuracy: 0.9803 - val_loss: 0.3583 - val_accuracy: 0.8268 - lr: 0.0010\n",
            "Epoch 12/100\n",
            "23/23 [==============================] - 0s 3ms/step - loss: 0.0971 - accuracy: 0.9831 - val_loss: 0.3565 - val_accuracy: 0.8324 - lr: 0.0010\n",
            "Epoch 13/100\n",
            "23/23 [==============================] - 0s 3ms/step - loss: 0.0804 - accuracy: 0.9860 - val_loss: 0.3642 - val_accuracy: 0.8324 - lr: 0.0010\n",
            "Epoch 14/100\n",
            "23/23 [==============================] - 0s 4ms/step - loss: 0.0678 - accuracy: 0.9846 - val_loss: 0.3576 - val_accuracy: 0.8324 - lr: 0.0010\n",
            "Epoch 15/100\n",
            "23/23 [==============================] - 0s 5ms/step - loss: 0.0607 - accuracy: 0.9860 - val_loss: 0.3635 - val_accuracy: 0.8324 - lr: 0.0010\n",
            "Epoch 16/100\n",
            "23/23 [==============================] - 0s 4ms/step - loss: 0.0543 - accuracy: 0.9846 - val_loss: 0.3670 - val_accuracy: 0.8324 - lr: 0.0010\n",
            "Epoch 17/100\n",
            "23/23 [==============================] - 0s 4ms/step - loss: 0.0499 - accuracy: 0.9860 - val_loss: 0.3646 - val_accuracy: 0.8268 - lr: 0.0010\n",
            "Epoch 18/100\n",
            "23/23 [==============================] - 0s 3ms/step - loss: 0.0440 - accuracy: 0.9888 - val_loss: 0.3738 - val_accuracy: 0.8268 - lr: 0.0010\n",
            "Epoch 19/100\n",
            "23/23 [==============================] - 0s 4ms/step - loss: 0.0389 - accuracy: 0.9888 - val_loss: 0.3772 - val_accuracy: 0.8268 - lr: 0.0010\n",
            "Epoch 20/100\n",
            "23/23 [==============================] - 0s 4ms/step - loss: 0.0403 - accuracy: 0.9831 - val_loss: 0.4016 - val_accuracy: 0.8324 - lr: 0.0010\n"
          ]
        }
      ]
    },
    {
      "cell_type": "code",
      "source": [
        "!mkdir models\n",
        "\n",
        "np.save('models/history.npy', history.history)\n",
        "\n",
        "import matplotlib.pyplot as plt\n",
        "pd.DataFrame(history.history).plot()\n",
        "plt.ylabel(\"loss\")\n",
        "plt.xlabel(\"epochs\")\n",
        "plt.show()\n",
        "\n",
        "model_1.save('models/model1')"
      ],
      "metadata": {
        "colab": {
          "base_uri": "https://localhost:8080/",
          "height": 296
        },
        "id": "CL14IowOwp93",
        "outputId": "a0813e64-2919-4aad-e4f5-d8e4b6b70290"
      },
      "execution_count": 30,
      "outputs": [
        {
          "output_type": "display_data",
          "data": {
            "image/png": "[encoded data removed]",
            "text/plain": [
              "<Figure size 432x288 with 1 Axes>"
            ]
          },
          "metadata": {
            "needs_background": "light"
          }
        },
        {
          "output_type": "stream",
          "name": "stdout",
          "text": [
            "INFO:tensorflow:Assets written to: models/model1/assets\n"
          ]
        }
      ]
    },
    {
      "cell_type": "markdown",
      "source": [
        ""
      ],
      "metadata": {
        "id": "WfHe5bxis3Aw"
      }
    }
  ]
}