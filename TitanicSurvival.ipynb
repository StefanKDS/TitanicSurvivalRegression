{
  "nbformat": 4,
  "nbformat_minor": 0,
  "metadata": {
    "colab": {
      "name": "TitanicSurvival.ipynb",
      "provenance": [],
      "collapsed_sections": [],
      "authorship_tag": "ABX9TyNYVAzIahy9VXI4KGjC0Rnt",
      "include_colab_link": true
    },
    "kernelspec": {
      "name": "python3",
      "display_name": "Python 3"
    },
    "language_info": {
      "name": "python"
    },
    "accelerator": "GPU"
  },
  "cells": [
    {
      "cell_type": "markdown",
      "metadata": {
        "id": "view-in-github",
        "colab_type": "text"
      },
      "source": [
        "<a href=\"https://colab.research.google.com/github/StefanKDS/TitanicSurvivalRegression/blob/master/TitanicSurvival.ipynb\" target=\"_parent\"><img src=\"https://colab.research.google.com/assets/colab-badge.svg\" alt=\"Open In Colab\"/></a>"
      ]
    },
    {
      "cell_type": "markdown",
      "source": [
        "# IMPORT"
      ],
      "metadata": {
        "id": "Peu8j5EHxBtY"
      }
    },
    {
      "cell_type": "code",
      "source": [
        "import tensorflow as tf\n",
        "import pandas as pd\n",
        "import numpy as np\n",
        "from sklearn.compose import make_column_transformer\n",
        "from sklearn.preprocessing import MinMaxScaler, OneHotEncoder\n",
        "from sklearn.model_selection import train_test_split\n",
        "from keras.callbacks import ReduceLROnPlateau, EarlyStopping"
      ],
      "metadata": {
        "id": "-gd9I74psajd"
      },
      "execution_count": 1,
      "outputs": []
    },
    {
      "cell_type": "markdown",
      "source": [
        "# Load data from Kaggle\n",
        "\n",
        "To download something from Kaggle via API you need a token from Kaggle"
      ],
      "metadata": {
        "id": "MnAXjlVpz_DO"
      }
    },
    {
      "cell_type": "code",
      "source": [
        "from google.colab import files\n",
        "\n",
        "uploaded = files.upload()\n",
        "\n",
        "for fn in uploaded.keys():\n",
        "  print('User uploaded file \"{name}\" with length {length} bytes'.format(\n",
        "      name=fn, length=len(uploaded[fn])))\n",
        "  \n",
        "# Then move kaggle.json into the folder where the API expects to find it.\n",
        "!mkdir -p ~/.kaggle/ && mv kaggle.json ~/.kaggle/ && chmod 600 ~/.kaggle/kaggle.json\n",
        "\n",
        "# Install kaggle and import data\n",
        "!pip install kaggle\n",
        "!kaggle competitions download -c titanic"
      ],
      "metadata": {
        "colab": {
          "resources": {
            "http://localhost:8080/nbextensions/google.colab/files.js": {
              "data": "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",
              "ok": true,
              "headers": [
                [
                  "content-type",
                  "application/javascript"
                ]
              ],
              "status": 200,
              "status_text": ""
            }
          },
          "base_uri": "https://localhost:8080/",
          "height": 455
        },
        "id": "MtQzl9PGs35w",
        "outputId": "260d9266-33e3-44f2-94f1-0e8e2d8afa86"
      },
      "execution_count": 2,
      "outputs": [
        {
          "output_type": "display_data",
          "data": {
            "text/html": [
              "\n",
              "     <input type=\"file\" id=\"files-f8af4e9c-be43-47ee-bdbc-de5e564cb642\" name=\"files[]\" multiple disabled\n",
              "        style=\"border:none\" />\n",
              "     <output id=\"result-f8af4e9c-be43-47ee-bdbc-de5e564cb642\">\n",
              "      Upload widget is only available when the cell has been executed in the\n",
              "      current browser session. Please rerun this cell to enable.\n",
              "      </output>\n",
              "      <script src=\"/nbextensions/google.colab/files.js\"></script> "
            ],
            "text/plain": [
              "<IPython.core.display.HTML object>"
            ]
          },
          "metadata": {}
        },
        {
          "output_type": "stream",
          "name": "stdout",
          "text": [
            "Saving kaggle.json to kaggle.json\n",
            "User uploaded file \"kaggle.json\" with length 65 bytes\n",
            "Requirement already satisfied: kaggle in /usr/local/lib/python3.7/dist-packages (1.5.12)\n",
            "Requirement already satisfied: python-dateutil in /usr/local/lib/python3.7/dist-packages (from kaggle) (2.8.2)\n",
            "Requirement already satisfied: certifi in /usr/local/lib/python3.7/dist-packages (from kaggle) (2021.10.8)\n",
            "Requirement already satisfied: requests in /usr/local/lib/python3.7/dist-packages (from kaggle) (2.23.0)\n",
            "Requirement already satisfied: python-slugify in /usr/local/lib/python3.7/dist-packages (from kaggle) (5.0.2)\n",
            "Requirement already satisfied: urllib3 in /usr/local/lib/python3.7/dist-packages (from kaggle) (1.24.3)\n",
            "Requirement already satisfied: six>=1.10 in /usr/local/lib/python3.7/dist-packages (from kaggle) (1.15.0)\n",
            "Requirement already satisfied: tqdm in /usr/local/lib/python3.7/dist-packages (from kaggle) (4.62.3)\n",
            "Requirement already satisfied: text-unidecode>=1.3 in /usr/local/lib/python3.7/dist-packages (from python-slugify->kaggle) (1.3)\n",
            "Requirement already satisfied: idna<3,>=2.5 in /usr/local/lib/python3.7/dist-packages (from requests->kaggle) (2.10)\n",
            "Requirement already satisfied: chardet<4,>=3.0.2 in /usr/local/lib/python3.7/dist-packages (from requests->kaggle) (3.0.4)\n",
            "Warning: Looks like you're using an outdated API Version, please consider updating (server 1.5.12 / client 1.5.4)\n",
            "Downloading test.csv to /content\n",
            "  0% 0.00/28.0k [00:00<?, ?B/s]\n",
            "100% 28.0k/28.0k [00:00<00:00, 31.4MB/s]\n",
            "Downloading train.csv to /content\n",
            "  0% 0.00/59.8k [00:00<?, ?B/s]\n",
            "100% 59.8k/59.8k [00:00<00:00, 62.8MB/s]\n",
            "Downloading gender_submission.csv to /content\n",
            "  0% 0.00/3.18k [00:00<?, ?B/s]\n",
            "100% 3.18k/3.18k [00:00<00:00, 3.28MB/s]\n"
          ]
        }
      ]
    },
    {
      "cell_type": "markdown",
      "source": [
        "# Prepare the data for using in our models"
      ],
      "metadata": {
        "id": "zAacWDgF0Fx_"
      }
    },
    {
      "cell_type": "code",
      "source": [
        "# Read in the insurance dataset\n",
        "train_data = pd.read_csv(\"train.csv\")\n",
        "train_data.head"
      ],
      "metadata": {
        "colab": {
          "base_uri": "https://localhost:8080/"
        },
        "id": "mZZ3L1HAuWLk",
        "outputId": "4ae33317-9a6c-493e-ea1e-5451bfb38f80"
      },
      "execution_count": 3,
      "outputs": [
        {
          "output_type": "execute_result",
          "data": {
            "text/plain": [
              "<bound method NDFrame.head of      PassengerId  Survived  Pclass  ...     Fare Cabin  Embarked\n",
              "0              1         0       3  ...   7.2500   NaN         S\n",
              "1              2         1       1  ...  71.2833   C85         C\n",
              "2              3         1       3  ...   7.9250   NaN         S\n",
              "3              4         1       1  ...  53.1000  C123         S\n",
              "4              5         0       3  ...   8.0500   NaN         S\n",
              "..           ...       ...     ...  ...      ...   ...       ...\n",
              "886          887         0       2  ...  13.0000   NaN         S\n",
              "887          888         1       1  ...  30.0000   B42         S\n",
              "888          889         0       3  ...  23.4500   NaN         S\n",
              "889          890         1       1  ...  30.0000  C148         C\n",
              "890          891         0       3  ...   7.7500   NaN         Q\n",
              "\n",
              "[891 rows x 12 columns]>"
            ]
          },
          "metadata": {},
          "execution_count": 3
        }
      ]
    },
    {
      "cell_type": "code",
      "source": [
        "# Do we have missing data ?\n",
        "train_data.isnull().sum()"
      ],
      "metadata": {
        "colab": {
          "base_uri": "https://localhost:8080/"
        },
        "id": "0JfV_rkkui0c",
        "outputId": "7c5902ab-2a69-4fc7-cc62-db4ba2971669"
      },
      "execution_count": 4,
      "outputs": [
        {
          "output_type": "execute_result",
          "data": {
            "text/plain": [
              "PassengerId      0\n",
              "Survived         0\n",
              "Pclass           0\n",
              "Name             0\n",
              "Sex              0\n",
              "Age            177\n",
              "SibSp            0\n",
              "Parch            0\n",
              "Ticket           0\n",
              "Fare             0\n",
              "Cabin          687\n",
              "Embarked         2\n",
              "dtype: int64"
            ]
          },
          "metadata": {},
          "execution_count": 4
        }
      ]
    },
    {
      "cell_type": "code",
      "source": [
        "# Fill missing values\n",
        "train_data[\"Age\"] = train_data[\"Age\"].replace(np.NaN, train_data[\"Age\"].mean())\n",
        "train_data[\"Cabin\"] = train_data[\"Cabin\"].fillna('U')\n",
        "train_data[\"Embarked\"] = train_data[\"Embarked\"].fillna('U')"
      ],
      "metadata": {
        "id": "uXAGSr54vYFL"
      },
      "execution_count": 5,
      "outputs": []
    },
    {
      "cell_type": "code",
      "source": [
        "# Do we have still missing data ?\n",
        "train_data.isnull().sum()"
      ],
      "metadata": {
        "colab": {
          "base_uri": "https://localhost:8080/"
        },
        "id": "JYmquYaUvdWc",
        "outputId": "54748c31-f6a4-46b0-cc32-01db4eb17f5f"
      },
      "execution_count": 6,
      "outputs": [
        {
          "output_type": "execute_result",
          "data": {
            "text/plain": [
              "PassengerId    0\n",
              "Survived       0\n",
              "Pclass         0\n",
              "Name           0\n",
              "Sex            0\n",
              "Age            0\n",
              "SibSp          0\n",
              "Parch          0\n",
              "Ticket         0\n",
              "Fare           0\n",
              "Cabin          0\n",
              "Embarked       0\n",
              "dtype: int64"
            ]
          },
          "metadata": {},
          "execution_count": 6
        }
      ]
    },
    {
      "cell_type": "code",
      "source": [
        "# Prepare data\n",
        "ct = make_column_transformer(\n",
        "    (MinMaxScaler(), [\"Pclass\", \"Age\", \"SibSp\", \"Parch\", \"Fare\"]), # get all values between 0 and 1\n",
        "    (OneHotEncoder(handle_unknown=\"ignore\"), [\"Sex\", \"Ticket\", \"Embarked\"]))\n",
        "\n",
        "# Drop not needed columns\n",
        "train_data = train_data.drop([\"Name\", \"PassengerId\"], axis=1)\n",
        "\n",
        "# Create X & y values\n",
        "X = train_data.drop(\"Survived\", axis=1)\n",
        "y = train_data[\"Survived\"]\n",
        "\n",
        "# Build our train and test sets (use random state to ensure same split as before)\n",
        "X_train, X_test, y_train, y_test = train_test_split(X, y, test_size=0.2, random_state=42)\n",
        "\n",
        "# Fit column transformer on the training data only (doing so on test data would result in data leakage)\n",
        "ct.fit(X_train)\n",
        "\n",
        "# Transform training and test data with normalization (MinMaxScalar) and one hot encoding (OneHotEncoder)\n",
        "X_train_normal = ct.transform(X_train)\n",
        "X_test_normal = ct.transform(X_test)\n",
        "\n",
        "X_train_normal = X_train_normal.toarray()\n",
        "X_test_normal = X_test_normal.toarray()"
      ],
      "metadata": {
        "id": "LT93E_Rgvhbk"
      },
      "execution_count": 7,
      "outputs": []
    },
    {
      "cell_type": "markdown",
      "source": [
        "# Model 1: Dense Model\n",
        "First we create a simple base model with 3 Dense layers"
      ],
      "metadata": {
        "id": "d_zwVcMXz1VN"
      }
    },
    {
      "cell_type": "code",
      "source": [
        "# Callbacks\n",
        "reduce_lr = ReduceLROnPlateau(monitor='val_accuracy', min_lr=0.0001, patience=5, verbose=1)\n",
        "early_stopping = EarlyStopping(patience=20, monitor='val_accuracy')\n",
        "callbacks = [early_stopping,reduce_lr]\n",
        "\n",
        "# Set random seed\n",
        "tf.random.set_seed(42)\n",
        "\n",
        "# Build the model (2 layers, 250, 1 units)\n",
        "model_1 = tf.keras.Sequential([\n",
        "  tf.keras.layers.Dense(250, activation=\"relu\"),\n",
        "  tf.keras.layers.Dense(1, activation=\"sigmoid\")\n",
        "])\n",
        "\n",
        "# Compile the model\n",
        "model_1.compile(loss = 'binary_crossentropy',\n",
        "                          optimizer=tf.keras.optimizers.Adam(learning_rate=0.2),\n",
        "                          metrics=['accuracy'])"
      ],
      "metadata": {
        "id": "mZP7QUPav3fe"
      },
      "execution_count": 8,
      "outputs": []
    },
    {
      "cell_type": "code",
      "source": [
        "# Fit the model\n",
        "history = model_1.fit(X_train_normal, y_train, epochs=100, callbacks=callbacks, validation_data=(X_test_normal, y_test))"
      ],
      "metadata": {
        "colab": {
          "base_uri": "https://localhost:8080/"
        },
        "id": "WtwLbMJLv8Dn",
        "outputId": "7263f539-98b2-4b52-f91c-d9e15a2f7dfd"
      },
      "execution_count": 9,
      "outputs": [
        {
          "output_type": "stream",
          "name": "stdout",
          "text": [
            "Epoch 1/100\n",
            "23/23 [==============================] - 2s 13ms/step - loss: 0.9992 - accuracy: 0.6952 - val_loss: 0.4378 - val_accuracy: 0.7933 - lr: 0.2000\n",
            "Epoch 2/100\n",
            "23/23 [==============================] - 0s 5ms/step - loss: 0.2625 - accuracy: 0.8567 - val_loss: 0.5318 - val_accuracy: 0.8045 - lr: 0.2000\n",
            "Epoch 3/100\n",
            "23/23 [==============================] - 0s 5ms/step - loss: 0.1243 - accuracy: 0.9438 - val_loss: 0.4349 - val_accuracy: 0.8156 - lr: 0.2000\n",
            "Epoch 4/100\n",
            "23/23 [==============================] - 0s 5ms/step - loss: 0.0784 - accuracy: 0.9775 - val_loss: 0.4161 - val_accuracy: 0.8045 - lr: 0.2000\n",
            "Epoch 5/100\n",
            "23/23 [==============================] - 0s 6ms/step - loss: 0.0581 - accuracy: 0.9803 - val_loss: 0.4453 - val_accuracy: 0.8436 - lr: 0.2000\n",
            "Epoch 6/100\n",
            "23/23 [==============================] - 0s 5ms/step - loss: 0.0495 - accuracy: 0.9846 - val_loss: 0.4922 - val_accuracy: 0.7374 - lr: 0.2000\n",
            "Epoch 7/100\n",
            "23/23 [==============================] - 0s 5ms/step - loss: 0.0507 - accuracy: 0.9775 - val_loss: 0.6401 - val_accuracy: 0.5531 - lr: 0.2000\n",
            "Epoch 8/100\n",
            "23/23 [==============================] - 0s 5ms/step - loss: 0.0402 - accuracy: 0.9817 - val_loss: 0.4529 - val_accuracy: 0.8492 - lr: 0.2000\n",
            "Epoch 9/100\n",
            "23/23 [==============================] - 0s 5ms/step - loss: 0.0482 - accuracy: 0.9775 - val_loss: 0.6423 - val_accuracy: 0.5810 - lr: 0.2000\n",
            "Epoch 10/100\n",
            "23/23 [==============================] - 0s 5ms/step - loss: 0.0406 - accuracy: 0.9846 - val_loss: 0.5038 - val_accuracy: 0.8045 - lr: 0.2000\n",
            "Epoch 11/100\n",
            "23/23 [==============================] - 0s 6ms/step - loss: 0.0402 - accuracy: 0.9789 - val_loss: 0.6554 - val_accuracy: 0.5810 - lr: 0.2000\n",
            "Epoch 12/100\n",
            "23/23 [==============================] - 0s 5ms/step - loss: 0.0410 - accuracy: 0.9846 - val_loss: 0.4588 - val_accuracy: 0.8492 - lr: 0.2000\n",
            "Epoch 13/100\n",
            "16/23 [===================>..........] - ETA: 0s - loss: 0.0265 - accuracy: 0.9902\n",
            "Epoch 00013: ReduceLROnPlateau reducing learning rate to 0.020000000298023225.\n",
            "23/23 [==============================] - 0s 5ms/step - loss: 0.0364 - accuracy: 0.9874 - val_loss: 0.7692 - val_accuracy: 0.5419 - lr: 0.2000\n",
            "Epoch 14/100\n",
            "23/23 [==============================] - 0s 5ms/step - loss: 0.0430 - accuracy: 0.9831 - val_loss: 0.6139 - val_accuracy: 0.6313 - lr: 0.0200\n",
            "Epoch 15/100\n",
            "23/23 [==============================] - 0s 5ms/step - loss: 0.0339 - accuracy: 0.9860 - val_loss: 0.5176 - val_accuracy: 0.8212 - lr: 0.0200\n",
            "Epoch 16/100\n",
            "23/23 [==============================] - 0s 5ms/step - loss: 0.0288 - accuracy: 0.9902 - val_loss: 0.4974 - val_accuracy: 0.8492 - lr: 0.0200\n",
            "Epoch 17/100\n",
            "23/23 [==============================] - 0s 5ms/step - loss: 0.0291 - accuracy: 0.9860 - val_loss: 0.5136 - val_accuracy: 0.8436 - lr: 0.0200\n",
            "Epoch 18/100\n",
            "17/23 [=====================>........] - ETA: 0s - loss: 0.0283 - accuracy: 0.9871\n",
            "Epoch 00018: ReduceLROnPlateau reducing learning rate to 0.0019999999552965165.\n",
            "23/23 [==============================] - 0s 5ms/step - loss: 0.0273 - accuracy: 0.9874 - val_loss: 0.4980 - val_accuracy: 0.8492 - lr: 0.0200\n",
            "Epoch 19/100\n",
            "23/23 [==============================] - 0s 6ms/step - loss: 0.0265 - accuracy: 0.9888 - val_loss: 0.4971 - val_accuracy: 0.8492 - lr: 0.0020\n",
            "Epoch 20/100\n",
            "23/23 [==============================] - 0s 5ms/step - loss: 0.0265 - accuracy: 0.9888 - val_loss: 0.4983 - val_accuracy: 0.8492 - lr: 0.0020\n",
            "Epoch 21/100\n",
            "23/23 [==============================] - 0s 5ms/step - loss: 0.0265 - accuracy: 0.9888 - val_loss: 0.4952 - val_accuracy: 0.8547 - lr: 0.0020\n",
            "Epoch 22/100\n",
            "23/23 [==============================] - 0s 5ms/step - loss: 0.0264 - accuracy: 0.9888 - val_loss: 0.4960 - val_accuracy: 0.8492 - lr: 0.0020\n",
            "Epoch 23/100\n",
            "23/23 [==============================] - 0s 5ms/step - loss: 0.0264 - accuracy: 0.9888 - val_loss: 0.4958 - val_accuracy: 0.8547 - lr: 0.0020\n",
            "Epoch 24/100\n",
            "23/23 [==============================] - 0s 5ms/step - loss: 0.0264 - accuracy: 0.9888 - val_loss: 0.4973 - val_accuracy: 0.8492 - lr: 0.0020\n",
            "Epoch 25/100\n",
            "23/23 [==============================] - 0s 6ms/step - loss: 0.0263 - accuracy: 0.9888 - val_loss: 0.4972 - val_accuracy: 0.8492 - lr: 0.0020\n",
            "Epoch 26/100\n",
            "16/23 [===================>..........] - ETA: 0s - loss: 0.0265 - accuracy: 0.9902\n",
            "Epoch 00026: ReduceLROnPlateau reducing learning rate to 0.0001999999862164259.\n",
            "23/23 [==============================] - 0s 5ms/step - loss: 0.0263 - accuracy: 0.9888 - val_loss: 0.4970 - val_accuracy: 0.8492 - lr: 0.0020\n",
            "Epoch 27/100\n",
            "23/23 [==============================] - 0s 6ms/step - loss: 0.0262 - accuracy: 0.9888 - val_loss: 0.4970 - val_accuracy: 0.8492 - lr: 2.0000e-04\n",
            "Epoch 28/100\n",
            "23/23 [==============================] - 0s 5ms/step - loss: 0.0262 - accuracy: 0.9888 - val_loss: 0.4970 - val_accuracy: 0.8492 - lr: 2.0000e-04\n",
            "Epoch 29/100\n",
            "23/23 [==============================] - 0s 5ms/step - loss: 0.0262 - accuracy: 0.9888 - val_loss: 0.4971 - val_accuracy: 0.8492 - lr: 2.0000e-04\n",
            "Epoch 30/100\n",
            "23/23 [==============================] - 0s 5ms/step - loss: 0.0262 - accuracy: 0.9888 - val_loss: 0.4971 - val_accuracy: 0.8492 - lr: 2.0000e-04\n",
            "Epoch 31/100\n",
            "15/23 [==================>...........] - ETA: 0s - loss: 0.0309 - accuracy: 0.9875\n",
            "Epoch 00031: ReduceLROnPlateau reducing learning rate to 0.0001.\n",
            "23/23 [==============================] - 0s 5ms/step - loss: 0.0262 - accuracy: 0.9888 - val_loss: 0.4971 - val_accuracy: 0.8492 - lr: 2.0000e-04\n",
            "Epoch 32/100\n",
            "23/23 [==============================] - 0s 5ms/step - loss: 0.0262 - accuracy: 0.9888 - val_loss: 0.4971 - val_accuracy: 0.8492 - lr: 1.0000e-04\n",
            "Epoch 33/100\n",
            "23/23 [==============================] - 0s 5ms/step - loss: 0.0262 - accuracy: 0.9888 - val_loss: 0.4970 - val_accuracy: 0.8492 - lr: 1.0000e-04\n",
            "Epoch 34/100\n",
            "23/23 [==============================] - 0s 5ms/step - loss: 0.0262 - accuracy: 0.9888 - val_loss: 0.4971 - val_accuracy: 0.8492 - lr: 1.0000e-04\n",
            "Epoch 35/100\n",
            "23/23 [==============================] - 0s 6ms/step - loss: 0.0262 - accuracy: 0.9888 - val_loss: 0.4971 - val_accuracy: 0.8492 - lr: 1.0000e-04\n",
            "Epoch 36/100\n",
            "23/23 [==============================] - 0s 5ms/step - loss: 0.0262 - accuracy: 0.9888 - val_loss: 0.4971 - val_accuracy: 0.8492 - lr: 1.0000e-04\n",
            "Epoch 37/100\n",
            "23/23 [==============================] - 0s 5ms/step - loss: 0.0262 - accuracy: 0.9888 - val_loss: 0.4971 - val_accuracy: 0.8492 - lr: 1.0000e-04\n",
            "Epoch 38/100\n",
            "23/23 [==============================] - 0s 5ms/step - loss: 0.0262 - accuracy: 0.9888 - val_loss: 0.4970 - val_accuracy: 0.8492 - lr: 1.0000e-04\n",
            "Epoch 39/100\n",
            "23/23 [==============================] - 0s 5ms/step - loss: 0.0262 - accuracy: 0.9888 - val_loss: 0.4971 - val_accuracy: 0.8492 - lr: 1.0000e-04\n",
            "Epoch 40/100\n",
            "23/23 [==============================] - 0s 5ms/step - loss: 0.0262 - accuracy: 0.9888 - val_loss: 0.4971 - val_accuracy: 0.8492 - lr: 1.0000e-04\n",
            "Epoch 41/100\n",
            "23/23 [==============================] - 0s 5ms/step - loss: 0.0262 - accuracy: 0.9888 - val_loss: 0.4971 - val_accuracy: 0.8492 - lr: 1.0000e-04\n"
          ]
        }
      ]
    },
    {
      "cell_type": "code",
      "source": [
        "!mkdir models\n",
        "\n",
        "np.save('models/history.npy', history.history)\n",
        "\n",
        "import matplotlib.pyplot as plt\n",
        "pd.DataFrame(history.history).plot()\n",
        "plt.ylabel(\"loss\")\n",
        "plt.xlabel(\"epochs\")\n",
        "plt.show()\n",
        "\n",
        "model_1.save('models/model1')"
      ],
      "metadata": {
        "colab": {
          "base_uri": "https://localhost:8080/",
          "height": 296
        },
        "id": "CL14IowOwp93",
        "outputId": "db66cca6-13ee-4c01-bfa8-8112e1d1a891"
      },
      "execution_count": 10,
      "outputs": [
        {
          "output_type": "display_data",
          "data": {
            "image/png": "[encoded data removed]",
            "text/plain": [
              "<Figure size 432x288 with 1 Axes>"
            ]
          },
          "metadata": {
            "needs_background": "light"
          }
        },
        {
          "output_type": "stream",
          "name": "stdout",
          "text": [
            "INFO:tensorflow:Assets written to: models/model1/assets\n"
          ]
        }
      ]
    },
    {
      "cell_type": "markdown",
      "source": [
        "# Model 2: Random ForestClassifier"
      ],
      "metadata": {
        "id": "WfHe5bxis3Aw"
      }
    },
    {
      "cell_type": "code",
      "source": [
        "# Train the model\n",
        "from sklearn.ensemble import RandomForestClassifier\n",
        "\n",
        "model2 = RandomForestClassifier(max_depth=100, random_state=1)\n",
        "model2.fit(X_train_normal, y_train)\n",
        "\n",
        "model2.score(X_test_normal, y_test)"
      ],
      "metadata": {
        "colab": {
          "base_uri": "https://localhost:8080/"
        },
        "id": "U5kRuQLShydD",
        "outputId": "611a058a-2f75-4411-bfbd-5cd076895959"
      },
      "execution_count": 12,
      "outputs": [
        {
          "output_type": "execute_result",
          "data": {
            "text/plain": [
              "0.8324022346368715"
            ]
          },
          "metadata": {},
          "execution_count": 12
        }
      ]
    },
    {
      "cell_type": "markdown",
      "source": [
        "## Model 3: Logistic Regression"
      ],
      "metadata": {
        "id": "YdnN9v8jC-_o"
      }
    },
    {
      "cell_type": "code",
      "source": [
        "from sklearn.linear_model import LogisticRegression\n",
        "model3 = LogisticRegression(random_state=0)\n",
        "model3.fit(X_train_normal, y_train)\n"
      ],
      "metadata": {
        "colab": {
          "base_uri": "https://localhost:8080/"
        },
        "id": "hSNdh50t1yMK",
        "outputId": "7014bd6c-d87f-4099-8bdf-6498a3a9da93"
      },
      "execution_count": 14,
      "outputs": [
        {
          "output_type": "execute_result",
          "data": {
            "text/plain": [
              "LogisticRegression(random_state=0)"
            ]
          },
          "metadata": {},
          "execution_count": 14
        }
      ]
    },
    {
      "cell_type": "code",
      "source": [
        "predictions = model3.predict(X_test_normal)"
      ],
      "metadata": {
        "id": "6nJRkj3REaaC"
      },
      "execution_count": 15,
      "outputs": []
    },
    {
      "cell_type": "code",
      "source": [
        "score = model3.score(X_test_normal, y_test)\n",
        "print(score)"
      ],
      "metadata": {
        "colab": {
          "base_uri": "https://localhost:8080/"
        },
        "id": "5hsGBsrvEeLS",
        "outputId": "c9a2cf6b-58a5-42f9-c1f8-8c46521e735c"
      },
      "execution_count": 16,
      "outputs": [
        {
          "output_type": "stream",
          "name": "stdout",
          "text": [
            "0.8156424581005587\n"
          ]
        }
      ]
    }
  ]
}